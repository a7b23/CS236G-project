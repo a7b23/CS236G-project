{
 "cells": [
  {
   "cell_type": "code",
   "execution_count": 5,
   "metadata": {},
   "outputs": [],
   "source": [
    "import numpy as np\n",
    "from sklearn.neighbors import KernelDensity"
   ]
  },
  {
   "cell_type": "code",
   "execution_count": 3,
   "metadata": {},
   "outputs": [],
   "source": [
    "x = np.load('/dfs/scratch2/prabhat8/cs236g/cats_500k.npy')"
   ]
  },
  {
   "cell_type": "code",
   "execution_count": 4,
   "metadata": {},
   "outputs": [],
   "source": [
    "kde = stats.gaussian_kde(x[:100000].T, 'scott')"
   ]
  },
  {
   "cell_type": "code",
   "execution_count": 6,
   "metadata": {},
   "outputs": [
    {
     "name": "stdout",
     "output_type": "stream",
     "text": [
      "0.982308861816593\n"
     ]
    }
   ],
   "source": [
    "data = x[:10000]\n",
    "n, d = data.shape\n",
    "scott = n**(-1./(d+4))\n",
    "print(scott)\n",
    "kde = KernelDensity(bandwidth=scott).fit(data)"
   ]
  },
  {
   "cell_type": "code",
   "execution_count": 7,
   "metadata": {},
   "outputs": [],
   "source": [
    "data_y = x[-20000:]\n",
    "scores_y = kde.score_samples(data_y)"
   ]
  },
  {
   "cell_type": "code",
   "execution_count": 9,
   "metadata": {},
   "outputs": [
    {
     "data": {
      "text/plain": [
       "(array([2.000e+00, 2.000e+00, 6.000e+00, 2.200e+01, 8.200e+01, 2.920e+02,\n",
       "        1.150e+03, 4.608e+03, 9.771e+03, 4.065e+03]),\n",
       " array([-507.13041582, -503.24845705, -499.36649828, -495.48453952,\n",
       "        -491.60258075, -487.72062199, -483.83866322, -479.95670445,\n",
       "        -476.07474569, -472.19278692, -468.31082815]),\n",
       " <BarContainer object of 10 artists>)"
      ]
     },
     "execution_count": 9,
     "metadata": {},
     "output_type": "execute_result"
    },
    {
     "data": {
      "image/png": "[encoded data removed]",
      "text/plain": [
       "<Figure size 432x288 with 1 Axes>"
      ]
     },
     "metadata": {
      "needs_background": "light"
     },
     "output_type": "display_data"
    }
   ],
   "source": [
    "import matplotlib.pyplot as plt\n",
    "plt.hist(scores_y)\n",
    "# plt.xlim(-400, 600)"
   ]
  },
  {
   "cell_type": "code",
   "execution_count": 17,
   "metadata": {},
   "outputs": [
    {
     "data": {
      "text/plain": [
       "(1000, 512)"
      ]
     },
     "execution_count": 17,
     "metadata": {},
     "output_type": "execute_result"
    }
   ],
   "source": [
    "good_mask = scores_y > -480\n",
    "\n",
    "good_mask.sum()\n",
    "\n",
    "good_y = data_y[good_mask]\n",
    "\n",
    "sample = good_y[np.random.choice(len(good_y), 1000)]\n",
    "sample.shape"
   ]
  },
  {
   "cell_type": "code",
   "execution_count": 18,
   "metadata": {},
   "outputs": [],
   "source": [
    "np.save(f'/dfs/scratch2/prabhat8/cs236g/cats/kde_threshold_480.npy', sample)"
   ]
  },
  {
   "cell_type": "code",
   "execution_count": null,
   "metadata": {},
   "outputs": [],
   "source": []
  }
 ],
 "metadata": {
  "kernelspec": {
   "display_name": "py3-ct",
   "language": "python",
   "name": "py3-ct"
  },
  "language_info": {
   "codemirror_mode": {
    "name": "ipython",
    "version": 3
   },
   "file_extension": ".py",
   "mimetype": "text/x-python",
   "name": "python",
   "nbconvert_exporter": "python",
   "pygments_lexer": "ipython3",
   "version": "3.7.1"
  }
 },
 "nbformat": 4,
 "nbformat_minor": 4
}
